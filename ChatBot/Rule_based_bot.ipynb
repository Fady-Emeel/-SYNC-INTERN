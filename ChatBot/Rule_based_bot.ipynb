{
  "nbformat": 4,
  "nbformat_minor": 0,
  "metadata": {
    "colab": {
      "provenance": [],
      "toc_visible": true,
      "authorship_tag": "ABX9TyPFlOKTBaru1KW4FfH+QBKT",
      "include_colab_link": true
    },
    "kernelspec": {
      "name": "python3",
      "display_name": "Python 3"
    },
    "language_info": {
      "name": "python"
    }
  },
  "cells": [
    {
      "cell_type": "markdown",
      "metadata": {
        "id": "view-in-github",
        "colab_type": "text"
      },
      "source": [
        "<a href=\"https://colab.research.google.com/github/Fady-Emeel/ChatBot-Python/blob/main/ChatBot/Rule_based_bot.ipynb\" target=\"_parent\"><img src=\"https://colab.research.google.com/assets/colab-badge.svg\" alt=\"Open In Colab\"/></a>"
      ]
    },
    {
      "cell_type": "code",
      "execution_count": null,
      "metadata": {
        "id": "VdHSIR8PLkjw"
      },
      "outputs": [],
      "source": [
        "#Import \n",
        "import re\n",
        "import random"
      ]
    },
    {
      "cell_type": "code",
      "source": [
        "class RuleBot:\n",
        "  ##### Potential Negative Responses\n",
        "  negative_responses = (\"no\", \"nope\",\"nah\",\"naw\",\"not a chance\",\"sorry\")\n",
        "  ##### Exit Conversation keywords\n",
        "  exit_commands = (\"quit\", \"pause\", \"goodbye\", \"bye\", \"later\")\n",
        "  #### Random starter question\n",
        "  random_questions = (\n",
        "      \"Why are you here? \",\n",
        "      \"Are there many humans like you? \",\n",
        "      \"What do you consume for sustenance? \",\n",
        "      \"Is there intelligent life on this planet? \",\n",
        "      \"What planets have you visited? \",\n",
        "      \"What technology do you have on this planet?\"\n",
        "  )\n",
        "  def __init__(self):\n",
        "      self.alienbabble = {'describe_planet_intent': r'.*\\s*your planet.*',\n",
        "                          'answer_why_intent': r'why\\sare.*',\n",
        "                          'about_intellipat': r'.*\\s*intellipaat'\n",
        "                          }\n",
        "\n",
        "  def greet(self):\n",
        "      self.name = input(\"what is your name?\\n\")\n",
        "      will_help = input(\n",
        "          f\"Hi {self.name}, I'm Rule-Bot. Will you help me learn about your planet?\\n\")\n",
        "      if will_help in self.negative_responses:\n",
        "        print(\"Ok, have a nice Earth day!\")\n",
        "        return\n",
        "      self.chat()\n",
        "\n",
        "  def make_exit(self,reply):\n",
        "      for command in self.exit_commands:\n",
        "        if reply == command:\n",
        "          print(\"okay, have a nice Earth day!\")\n",
        "          return True\n",
        "\n",
        "  def chat(self):\n",
        "      reply = input(random.choice(self.random_questions)).lower()\n",
        "      while not self.make_exit(reply):\n",
        "        reply = input(self.match_reply(reply))      \n",
        "\n",
        "  def match_reply(self, reply):\n",
        "      for key, value in self.alienbabble.items():\n",
        "          intent = key\n",
        "          regex_pattern = value\n",
        "          found_match = re.match(regex_pattern, reply)\n",
        "          if found_match and intent == 'describe_planet_intent':\n",
        "              return self.describe_planet_intent()\n",
        "          elif found_match and intent == 'answer_why_intent':\n",
        "              return self.answer_why_intent()\n",
        "          elif found_match and intent == 'about_intellipat':\n",
        "              return self.about_intellipat()\n",
        "          if not found_match:\n",
        "              return self.no_match_intent()\n",
        "\n",
        "  def describe_planet_intent(self):\n",
        "      responses = (\"My planet is a utopia of diverse organisms and species.\\n\",\n",
        "                   \"I'm from Opidipus, the capital of the wayward Galaxies.\\n\")\n",
        "      return random.choice(responses)\n",
        "\n",
        "  def answer_why_intent(self):\n",
        "      responses = (\"I come in peace\\n\", \"I'm here to collect data on your panet and ite inhabitants\\n\",\n",
        "                   \"I heard the coffee is good\\n\")\n",
        "      return random.choice(responses)\n",
        "\n",
        "  def about_intellipat(self):\n",
        "      responses = (\"Intellipaat is worl's largest professional educational company\\n\", \"Intellipaat is where your career and skill grows\\n\")\n",
        "      return random.choice(responses)\n",
        "\n",
        "  def no_match_intent(self):\n",
        "      responses = (\"Please tell me more.\\n\", \"Tell me more!\\n\", \"why do you say that?\\n\", \"I see. Can you elaborate?\\n\",\n",
        "                   \"Interesting. Can you tell me more?\\n\", \"I see. How do you think?\\n\", \"why?\\n\",\n",
        "                   \"How do you think I feel wheen you say that?\\n\")\n",
        "      return random.choice(responses)\n",
        "\n",
        "AlienBot = RuleBot()\n",
        "AlienBot.greet()  "
      ],
      "metadata": {
        "colab": {
          "base_uri": "https://localhost:8080/"
        },
        "id": "4VL7Bn4GT2YQ",
        "outputId": "ac98e7f1-67f3-46a4-eae1-f702701154b3"
      },
      "execution_count": null,
      "outputs": [
        {
          "output_type": "stream",
          "name": "stdout",
          "text": [
            "what is your name?\n",
            "Fady\n",
            "Hi Fady, I'm Rule-Bot. Will you help me learn about your planet?\n",
            "Sure\n",
            "What do you consume for sustenance? fuel\n",
            "why do you say that?\n",
            "cause it's cool\n",
            "Interesting. Can you tell me more?\n",
            "nah\n",
            "Interesting. Can you tell me more?\n",
            "nah\n",
            "I see. Can you elaborate?\n",
            "quit\n",
            "okay, have a nice Earth day!\n"
          ]
        }
      ]
    }
  ]
}